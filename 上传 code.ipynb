{
 "cells": [
  {
   "cell_type": "code",
   "execution_count": 107,
   "id": "778e47a1-8a0b-44f6-83ee-4a622c9b0570",
   "metadata": {
    "execution": {
     "iopub.execute_input": "2025-04-13T13:17:31.762481Z",
     "iopub.status.busy": "2025-04-13T13:17:31.761479Z",
     "iopub.status.idle": "2025-04-13T13:17:31.782820Z",
     "shell.execute_reply": "2025-04-13T13:17:31.781607Z",
     "shell.execute_reply.started": "2025-04-13T13:17:31.762481Z"
    }
   },
   "outputs": [
    {
     "data": {
      "text/plain": [
       "'2.10.0'"
      ]
     },
     "execution_count": 107,
     "metadata": {},
     "output_type": "execute_result"
    }
   ],
   "source": [
    "import numpy as np\n",
    "import pandas as pd\n",
    "import scipy.stats \n",
    "import warnings\n",
    "warnings.filterwarnings('ignore')\n",
    "import matplotlib.pyplot as plt\n",
    "\n",
    "import time, os, pickle, joblib, datetime, random, warnings\n",
    "from sklearn.model_selection import GridSearchCV\n",
    "from sklearn.svm import SVR\n",
    "from sklearn.ensemble import RandomForestRegressor as rf\n",
    "from sklearn.linear_model import LinearRegression as LR\n",
    "from sklearn.model_selection import train_test_split as tts\n",
    "from sklearn.model_selection import cross_val_score as cvs\n",
    "from sklearn.metrics import mean_squared_error as MSE\n",
    "from sklearn.preprocessing import StandardScaler,scale\n",
    "from sklearn.metrics import r2_score, mean_squared_error, mean_absolute_error\n",
    "from sklearn.utils import shuffle\n",
    "from sklearn.ensemble import ExtraTreesRegressor\n",
    "from xgboost import XGBRegressor as XGBR\n",
    "from sklearn import metrics\n",
    "from sklearn.preprocessing import RobustScaler\n",
    "from xgboost import plot_tree, plot_importance\n",
    "from sklearn.model_selection import KFold\n",
    "import tensorflow as tf\n",
    "os.environ['TF_CPP_MIN_LOG_LEVEL'] = '2'  #解决新版本GPU报错的问题\n",
    "from tensorflow.keras.layers import Input, Dense, Dropout, Flatten\n",
    "from tensorflow.keras.models import Model\n",
    "from tensorflow.keras.metrics import RootMeanSquaredError\n",
    "from tensorflow.keras.callbacks import EarlyStopping\n",
    "import seaborn as sns\n",
    "from scipy.stats import gaussian_kde\n",
    "import joblib, shap\n",
    "\n",
    "tf.__version__"
   ]
  },
  {
   "cell_type": "code",
   "execution_count": null,
   "id": "5f0c13b9-d9db-4b93-a931-1da11ab5018b",
   "metadata": {},
   "outputs": [],
   "source": [
    "import ee, geemap, os\n",
    "import geopandas as gpd\n",
    "\n",
    "ee.Authenticate()\n",
    "ee.Initialize()\n",
    "\n",
    "os.environ['HTTP_PROXY'] = 'http://127.0.0.1:7890' \n",
    "os.environ['HTTPS_PROXY'] = 'http://127.0.0.1:7890'\n",
    "\n",
    "Map = geemap.Map(center=(40, -100), zoom=1,height = 500,width = 800)\n",
    "Map"
   ]
  },
  {
   "cell_type": "markdown",
   "id": "dbfe7411-cee9-41f5-aaf3-92d5ce2433f4",
   "metadata": {
    "jp-MarkdownHeadingCollapsed": true
   },
   "source": [
    "## MK trend analysis"
   ]
  },
  {
   "cell_type": "code",
   "execution_count": null,
   "id": "b0d11e23-2a86-4095-9db4-64bc908f430b",
   "metadata": {
    "scrolled": true
   },
   "outputs": [],
   "source": [
    "import pandas as pd\n",
    "import pymannkendall as mk\n",
    "df = pd.read_excel()\n",
    "\n",
    "trend_list = []\n",
    "for i in range(len(df)):\n",
    "    data = df.iloc[i,4:-6].tolist()\n",
    "    data = list(filter(lambda x: isinstance(x, (int, float)) and not np.isnan(x), data))\n",
    "    if len(data) <= 5:\n",
    "        print(0)\n",
    "        continue\n",
    "    try:\n",
    "        res = mk.original_test(data,alpha = 0.1)\n",
    "        print(res.trend,round(res.p,2),round(res.slope,6),sep = ',')\n",
    "        if res.trend == 'no trend':\n",
    "            trend_list.append(0)\n",
    "            # print(0)\n",
    "        if res.trend == 'increasing':\n",
    "            trend_list.append(1)\n",
    "            # print(1)\n",
    "        if res.trend == 'decreasing':\n",
    "            trend_list.append(-1)\n",
    "            # print(-1)\n",
    "    except:\n",
    "        # print('none')\n",
    "        trend_list.append(0)"
   ]
  },
  {
   "cell_type": "markdown",
   "id": "1490a85b-3fdf-47d7-8f01-89dc8388a8a6",
   "metadata": {},
   "source": [
    "# Deforestation analysis"
   ]
  },
  {
   "cell_type": "code",
   "execution_count": 24,
   "id": "8b78b3fb-796d-404a-bf00-828fc5f852d5",
   "metadata": {
    "execution": {
     "iopub.execute_input": "2024-10-12T07:16:57.325890Z",
     "iopub.status.busy": "2024-10-12T07:16:57.324914Z",
     "iopub.status.idle": "2024-10-12T07:16:58.373773Z",
     "shell.execute_reply": "2024-10-12T07:16:58.372594Z",
     "shell.execute_reply.started": "2024-10-12T07:16:57.325890Z"
    }
   },
   "outputs": [
    {
     "data": {
      "text/html": [
       "\n",
       "            <style>\n",
       "                .geemap-dark {\n",
       "                    --jp-widgets-color: white;\n",
       "                    --jp-widgets-label-color: white;\n",
       "                    --jp-ui-font-color1: white;\n",
       "                    --jp-layout-color2: #454545;\n",
       "                    background-color: #383838;\n",
       "                }\n",
       "\n",
       "                .geemap-dark .jupyter-button {\n",
       "                    --jp-layout-color3: #383838;\n",
       "                }\n",
       "\n",
       "                .geemap-colab {\n",
       "                    background-color: var(--colab-primary-surface-color, white);\n",
       "                }\n",
       "\n",
       "                .geemap-colab .jupyter-button {\n",
       "                    --jp-layout-color3: var(--colab-primary-surface-color, white);\n",
       "                }\n",
       "            </style>\n",
       "            "
      ],
      "text/plain": [
       "<IPython.core.display.HTML object>"
      ]
     },
     "metadata": {},
     "output_type": "display_data"
    }
   ],
   "source": [
    "dataset = ee.Image('UMD/hansen/global_forest_change_2023_v1_11')\n",
    "\n",
    "first_Bands = ['first_b30', 'first_b40', 'first_b50',]\n",
    "last_Bands = ['last_b30', 'last_b40', 'last_b50']\n",
    "\n",
    "first_image = dataset.select(first_Bands)\n",
    "last_image  = dataset.select(last_Bands)\n",
    "\n",
    "Map.addLayer(first_image, {'bands':first_Bands,'gamma':1.5}, 'Year 2000 Bands 5/4/3')\n",
    "Map.addLayer(last_image, {'bands':last_Bands,'gamma':1.5}, 'Year 2022 Bands 5/4/3')"
   ]
  },
  {
   "cell_type": "code",
   "execution_count": 39,
   "id": "cfb204bd-be53-4148-8c5e-85b85871717c",
   "metadata": {
    "execution": {
     "iopub.execute_input": "2024-10-12T07:33:28.304703Z",
     "iopub.status.busy": "2024-10-12T07:33:28.304703Z",
     "iopub.status.idle": "2024-10-12T07:33:28.335787Z",
     "shell.execute_reply": "2024-10-12T07:33:28.334199Z",
     "shell.execute_reply.started": "2024-10-12T07:33:28.304703Z"
    }
   },
   "outputs": [
    {
     "data": {
      "text/html": [
       "\n",
       "            <style>\n",
       "                .geemap-dark {\n",
       "                    --jp-widgets-color: white;\n",
       "                    --jp-widgets-label-color: white;\n",
       "                    --jp-ui-font-color1: white;\n",
       "                    --jp-layout-color2: #454545;\n",
       "                    background-color: #383838;\n",
       "                }\n",
       "\n",
       "                .geemap-dark .jupyter-button {\n",
       "                    --jp-layout-color3: #383838;\n",
       "                }\n",
       "\n",
       "                .geemap-colab {\n",
       "                    background-color: var(--colab-primary-surface-color, white);\n",
       "                }\n",
       "\n",
       "                .geemap-colab .jupyter-button {\n",
       "                    --jp-layout-color3: var(--colab-primary-surface-color, white);\n",
       "                }\n",
       "            </style>\n",
       "            "
      ],
      "text/plain": [
       "<IPython.core.display.HTML object>"
      ]
     },
     "metadata": {},
     "output_type": "display_data"
    },
    {
     "name": "stdout",
     "output_type": "stream",
     "text": [
      "             area_m2   area_km2\n",
      "0  3,228,837,603,285  3,228,838\n"
     ]
    }
   ],
   "source": [
    "basin = basin.to_crs(epsg=5070)\n",
    "\n",
    "basin['area_m2'] = basin.geometry.area\n",
    "\n",
    "basin['area_km2'] = basin['area_m2'] / 1_000_000\n",
    "\n",
    "basin['area_m2'] = basin['area_m2'].apply(lambda x: f\"{x:,.0f}\")\n",
    "basin['area_km2'] = basin['area_km2'].apply(lambda x: f\"{x:,.0f}\")\n",
    "\n",
    "print(basin[['area_m2', 'area_km2']])"
   ]
  },
  {
   "cell_type": "code",
   "execution_count": null,
   "id": "3ebcdcc1-45cb-445e-bf87-d2a9cc66691c",
   "metadata": {
    "scrolled": true
   },
   "outputs": [],
   "source": [
    "basins = ee.FeatureCollection('projects/sat-io/open-datasets/HydroAtlas/BasinAtlas/BasinATLAS_v10_lev04')\n",
    "\n",
    "for river_num in range(297, len(river)+1):  # len(river) + 1\n",
    "    selected_point = river[river['rivernum'] == river_num]\n",
    "    geometry = geemap.geopandas_to_ee(selected_point)\n",
    "    Map.addLayer(geometry, {}, 'Geometry')\n",
    "\n",
    "    basin_shp = basins.filterBounds(geometry)\n",
    "\n",
    "    Map.addLayer(basin_shp, {'color': 'blue'}, 'Basin at Point')\n",
    "    Map.centerObject(basin_shp, 6)\n",
    "\n",
    "    for threshold in [20]:\n",
    "        dataset = ee.Image('UMD/hansen/global_forest_change_2023_v1_11')\n",
    "        tree_cover = dataset.select('treecover2000').gte(threshold).selfMask()\n",
    "        masked_tree_cover = tree_cover.clip(basin_shp)\n",
    "\n",
    "        forest_cover_area = masked_tree_cover.multiply(ee.Image.pixelArea()).reduceRegion(\n",
    "            reducer=ee.Reducer.sum(),\n",
    "            geometry=basin_shp.geometry(),\n",
    "            scale=30, \n",
    "            maxPixels=1e13\n",
    "        )\n",
    "\n",
    "        forest_area_km2 = forest_cover_area.get('treecover2000').getInfo() / 1_000_000\n",
    "\n",
    "        loss = dataset.select('loss')\n",
    "        loss = loss.updateMask(loss).clip(basin_shp)\n",
    "\n",
    "        loss_area = loss.multiply(ee.Image.pixelArea()).reduceRegion(\n",
    "            reducer=ee.Reducer.sum(),\n",
    "            geometry=basin_shp.geometry(),\n",
    "            scale=30, \n",
    "            maxPixels=1e13\n",
    "        )\n",
    "\n",
    "        loss_area_km2 = loss_area.get('loss').getInfo() / 1_000_000\n",
    "\n",
    "        gain = dataset.select('gain')\n",
    "        gain = gain.updateMask(gain).clip(basin_shp)\n",
    "\n",
    "        gain_area = gain.multiply(ee.Image.pixelArea()).reduceRegion(\n",
    "            reducer=ee.Reducer.sum(),\n",
    "            geometry=basin_shp.geometry(),\n",
    "            scale=30,\n",
    "            maxPixels=1e13\n",
    "        )\n",
    "\n",
    "        gain_area_km2 = gain_area.get('gain').getInfo() / 1_000_000\n",
    "\n",
    "        try:\n",
    "            deforestation = (loss_area_km2 - gain_area_km2) / forest_area_km2\n",
    "\n",
    "            print('河段: {} | 阈值: {} | 森林覆盖面积（平方千米）: {} | 损失面积: {} | 增益面积: {} | 森林损失率: {:.2f}%'.format(\n",
    "                river_num,\n",
    "                threshold,\n",
    "                int(forest_area_km2),\n",
    "                int(loss_area_km2),\n",
    "                int(gain_area_km2),\n",
    "                round(deforestation * 100, 2)\n",
    "            ))\n",
    "        except:\n",
    "            print('河段',river_num)"
   ]
  },
  {
   "cell_type": "markdown",
   "id": "4d50ab5d-7e65-404e-9d65-40d0bcb5a018",
   "metadata": {},
   "source": [
    "# Dam analysis"
   ]
  },
  {
   "cell_type": "code",
   "execution_count": null,
   "id": "a5da80a2-d56a-4390-8d03-0776eb01cf24",
   "metadata": {
    "scrolled": true
   },
   "outputs": [],
   "source": [
    "basins = ee.FeatureCollection('projects/sat-io/open-datasets/HydroAtlas/BasinAtlas/BasinATLAS_v10_lev03')\n",
    "\n",
    "for river_num in range(1,len(river) + 1):  \n",
    "    selected_point = river[river['rivernum'] == river_num]\n",
    "    geometry = geemap.geopandas_to_ee(selected_point)\n",
    "    Map.addLayer(geometry, {}, 'Geometry')\n",
    "\n",
    "    basin_shp = basins.filterBounds(geometry)\n",
    "\n",
    "    Map.addLayer(basin_shp, {'color': 'blue'}, 'Basin at Point')\n",
    "    Map.centerObject(basin_shp, 6)\n",
    "\n",
    "    basin_shp_ee = basin_shp\n",
    "    \n",
    "    basin_shp_data = basin_shp_ee.getInfo()\n",
    "    features = basin_shp_data['features']\n",
    "    \n",
    "    basin_shp_gdf = gpd.GeoDataFrame.from_features(features)\n",
    "\n",
    "    try:\n",
    "        intersecting_dams = gpd.sjoin(dams, basin_shp_gdf, how='inner', op='intersects')\n",
    "        \n",
    "        num_dams_in_basin = intersecting_dams.shape[0]\n",
    "        \n",
    "        reservior_capacity = round(sum(intersecting_dams['CAP_MCM'].tolist())*0.001,2)\n",
    "        capacity_vs_discharge = round(reservior_capacity/df['ave_discharge'][river_num+1],4)*100\n",
    "        \n",
    "        print(river_num, num_dams_in_basin, reservior_capacity, capacity_vs_discharge)\n",
    "        \n",
    "    except:\n",
    "        print(river_num)\n",
    "        continue"
   ]
  },
  {
   "cell_type": "markdown",
   "id": "44c3a25e-0158-49a9-8fce-cc409e628a95",
   "metadata": {},
   "source": [
    "# Land greening analysis"
   ]
  },
  {
   "cell_type": "code",
   "execution_count": null,
   "id": "2b133c87-d97a-4f30-ab02-4bdf6832c095",
   "metadata": {
    "scrolled": true
   },
   "outputs": [],
   "source": [
    "from sklearn.linear_model import LinearRegression\n",
    "\n",
    "basins = ee.FeatureCollection('projects/sat-io/open-datasets/HydroAtlas/BasinAtlas/BasinATLAS_v10_lev03')\n",
    "\n",
    "for river_num in range(len(river)): \n",
    "    selected_point = river[river['rivernum'] == river_num]\n",
    "    geometry = geemap.geopandas_to_ee(selected_point)\n",
    "    Map.addLayer(geometry, {}, 'Geometry')\n",
    "\n",
    "    basin_shp = basins.filterBounds(geometry)\n",
    "\n",
    "    Map.addLayer(basin_shp, {'color': 'blue'}, 'Basin at Point')\n",
    "    Map.centerObject(basin_shp, 6)\n",
    "    \n",
    "    results = []\n",
    "    for year in range(1984, 2021):\n",
    "        ndvi = (ee.ImageCollection('NOAA/CDR/AVHRR/NDVI/V5')\n",
    "                 .filterDate(f'{year}-01-01', f'{year}-12-31')\n",
    "                 .mean()\n",
    "                 .select('NDVI')\n",
    "                 .clip(basin_shp))\n",
    "        try:\n",
    "            mean_value = ndvi.reduceRegion(\n",
    "                reducer=ee.Reducer.mean(),\n",
    "                geometry=basin_shp,\n",
    "                scale=10000,\n",
    "                maxPixels=1e13\n",
    "            ).get('NDVI').getInfo()\n",
    "            \n",
    "        except:\n",
    "            mean_value = 0\n",
    "        year_mean = {'year': year, 'mean': mean_value}\n",
    "        results.append(year_mean)\n",
    "        \n",
    "    years = np.array([result['year'] for result in results]).reshape(-1, 1)\n",
    "    means = np.array([result['mean'] for result in results]).reshape(-1, 1)\n",
    "\n",
    "    model = LinearRegression()\n",
    "    try:\n",
    "        model.fit(years, means)\n",
    "    except:\n",
    "        print('river_num: ',river_num)\n",
    "        continue\n",
    "    slope = model.coef_[0][0]\n",
    "    intercept = model.intercept_[0]\n",
    "    \n",
    "    print(f\"river_num: {river_num}, Slope: {slope/means.mean():.4f}\")"
   ]
  },
  {
   "cell_type": "markdown",
   "id": "635fe6a6-5cc6-43cc-bf8b-35a846cc4c62",
   "metadata": {},
   "source": [
    "# Warmming analysis"
   ]
  },
  {
   "cell_type": "code",
   "execution_count": null,
   "id": "ce95e6b3-4e11-4004-907b-8f8091301793",
   "metadata": {
    "scrolled": true
   },
   "outputs": [],
   "source": [
    "from sklearn.linear_model import LinearRegression\n",
    "\n",
    "for river_num in numbers:\n",
    "    selected_point = river[river['rivernum'] == river_num]\n",
    "    geometry = geemap.geopandas_to_ee(selected_point)\n",
    "    Map.addLayer(geometry, {}, 'Geometry')\n",
    "\n",
    "    basin_shp = basins.filterBounds(geometry)\n",
    "\n",
    "    Map.addLayer(basin_shp, {'color': 'blue'}, 'Basin at Point')\n",
    "    Map.centerObject(basin_shp, 4)\n",
    "    \n",
    "    results = []\n",
    "    \n",
    "    for year in range(1984, 2021):\n",
    "        \n",
    "        try:\n",
    "            temp =  ee.ImageCollection('ECMWF/ERA5_LAND/MONTHLY_AGGR') \\\n",
    "                .filterDate(f'{year}-01-01', f'{year}-12-31') \\\n",
    "                .mean().clip(basin_shp) \\\n",
    "                .reduceRegion(reducer=ee.Reducer.mean(),geometry=basin_shp,scale=5000,maxPixels = 1e13).getInfo().get('temperature_2m')\n",
    "        except:\n",
    "            temp = 0\n",
    "\n",
    "        try:\n",
    "            prec =  ee.ImageCollection('ECMWF/ERA5_LAND/MONTHLY_AGGR') \\\n",
    "                .filterDate(f'{year}-01-01', f'{year}-12-31') \\\n",
    "                .sum() \\\n",
    "                .clip(basin_shp) \\\n",
    "                .reduceRegion(reducer=ee.Reducer.mean(),geometry=basin_shp,scale=5000,maxPixels = 1e13).getInfo().get('total_precipitation_sum')\n",
    "        except:\n",
    "            prec = 0\n",
    "            \n",
    "        year_data = {\n",
    "        'year': year,'temp': temp,'prec': prec,}\n",
    "        \n",
    "        results.append(year_data)\n",
    "\n",
    "    df = pd.DataFrame(results)\n",
    "    slope_list = []\n",
    "    \n",
    "    variables = ['temp', 'prec']\n",
    "    for var in variables:\n",
    "        y = df[var][df[var] != 0].values\n",
    "        X = np.arange(1, len(y) + 1).reshape(-1, 1)  # 转换为列向量（sklearn 要求 2D 数据）\n",
    "    \n",
    "        model = LinearRegression()\n",
    "        model.fit(X, y)\n",
    "        \n",
    "        slope = model.coef_[0]\n",
    "        mean_val = y.mean()\n",
    "        change_rate =  round((slope / mean_val) * 100, 4) if mean_val != 0 else np.nan\n",
    "        slope_list.append(change_rate)\n",
    "        \n",
    "    print(river_num, *slope_list, sep='\\t')"
   ]
  },
  {
   "cell_type": "markdown",
   "id": "10d4e123-e86b-45fb-ae0f-3de8020f6669",
   "metadata": {},
   "source": [
    "# Figure mapping"
   ]
  },
  {
   "cell_type": "code",
   "execution_count": 1,
   "id": "5fb1df10-229e-429f-a005-47cb56213298",
   "metadata": {
    "execution": {
     "iopub.execute_input": "2025-04-07T04:12:56.319480Z",
     "iopub.status.busy": "2025-04-07T04:12:56.318481Z",
     "iopub.status.idle": "2025-04-07T04:13:04.594265Z",
     "shell.execute_reply": "2025-04-07T04:13:04.593254Z",
     "shell.execute_reply.started": "2025-04-07T04:12:56.319480Z"
    }
   },
   "outputs": [],
   "source": [
    "from matplotlib import pyplot as plt\n",
    "import numpy as np\n",
    "import pandas as pd\n",
    "from matplotlib.pyplot import MultipleLocator,FormatStrFormatter\n",
    "from pylab import mpl\n",
    "from sklearn.metrics import mean_squared_error \n",
    "from matplotlib import colors, cm\n",
    "import seaborn as sns\n",
    "from sklearn.linear_model import LinearRegression\n",
    "from scipy.stats import t\n",
    "from scipy.interpolate import make_interp_spline\n",
    "from matplotlib.colors import ListedColormap,Normalize\n",
    "from scipy import stats\n",
    "import mpl_scatter_density\n",
    "plt.rcParams[\"font.family\"] = 'Arial'"
   ]
  },
  {
   "cell_type": "markdown",
   "id": "a9da9422-b093-40c8-b095-7b5a49229c1f",
   "metadata": {},
   "source": [
    "## Fig.1 mapping"
   ]
  },
  {
   "cell_type": "code",
   "execution_count": null,
   "id": "baca684d-83b3-4870-ad8c-da94eb25ee44",
   "metadata": {},
   "outputs": [],
   "source": [
    "mpl.rcParams['font.size'] = 12\n",
    "\n",
    "robinson_proj4 = '+proj=robin +lon_0=0 +x_0=0 +y_0=0 +datum=WGS84 +units=m +no_defs'\n",
    "world = world.to_crs(crs=robinson_proj4)\n",
    "poc = poc.to_crs(crs=robinson_proj4)\n",
    "country = country.to_crs(crs=robinson_proj4)\n",
    "\n",
    "fig, ax = plt.subplots(1, 1, figsize=(7, 7.5), dpi=300)\n",
    "ax.spines['top'].set_visible(False)\n",
    "ax.spines['right'].set_visible(False)\n",
    "ax.spines['bottom'].set_visible(False)\n",
    "ax.spines['left'].set_visible(False)\n",
    "ax.axis('off')\n",
    "\n",
    "world.plot(ax=ax, color='#EDEDED', edgecolor=None, linewidth=0.5, alpha = 0.6)\n",
    "\n",
    "sizes = [20, 60, 200]\n",
    "poc['size'] = [sizes[0] if 0 <= x < 100 \n",
    "               else sizes[1] if 100 <= x < 2000 \n",
    "               else sizes[2] for x in poc['discharge']]\n",
    "\n",
    "color_list = ['#a50026','#d73027','#f46d43','#fdae61','#fee090','#e0f3f8','#abd9e9','#74add1','#4575b4','#313695']\n",
    "color_list.reverse()\n",
    "\n",
    "poc['color'] = [color_list[0] if (x < 0.331600)\n",
    "                else color_list[1] if (0.331600 <= x < 0.890556)\n",
    "                else color_list[2] if (0.890556 <= x < 1.226190)\n",
    "                else color_list[3] if (1.226190 <= x < 1.591940)\n",
    "                else color_list[4] if (1.591940 <= x < 2.003750)\n",
    "                else color_list[5] if (2.003750 <= x < 2.484440)\n",
    "                else color_list[6] if (2.484440 <= x < 3.109390)\n",
    "                else color_list[7] if (3.109390 <= x < 4.241670)\n",
    "                else color_list[8] if (4.241670 <= x < 5.883570)\n",
    "                else color_list[9] if (5.883570 <= x < 8.999120)\n",
    "                else None for x in poc['poc_ave']]\n",
    "\n",
    "for x, y, color, size in zip(poc.geometry.x, poc.geometry.y, poc['color'],  poc['size']):\n",
    "    ax.scatter(x, y,  s=size, edgecolor='k', c=color, zorder = 100, lw = 0.4, alpha = 0.9)\n",
    "\n",
    "labels = [1, 20, 60]\n",
    "legend_elements = [plt.scatter([], [], marker='o',  facecolor='none',edgecolor = 'k', lw = 0.5,\n",
    "                               s=size, label=label) for size, label in zip(sizes, labels)]\n",
    "legend = plt.legend(handles=legend_elements,markerfirst=True, frameon=False, bbox_to_anchor=(0.68, 0.44),fontsize=7,labelspacing = 1.)  \n",
    "legend.set_title('Avg. Discharge\\n(100 km³/yr)', prop={'size': 7})\n",
    "\n",
    "cmap = mcolors.ListedColormap(color_list)\n",
    "bounds = [0, 0.3, 0.9, 1.2, 1.6, 2, 2.5, 3.1, 4.2, 6, 9]\n",
    "norm = mcolors.BoundaryNorm(bounds, cmap.N)\n",
    "\n",
    "cax = fig.add_axes([0.82, 0.48, 0.01, 0.12])\n",
    "colorbar = plt.colorbar(plt.cm.ScalarMappable(cmap=cmap, norm=norm), cax=cax)\n",
    "colorbar.ax.set_title('POC (mg/L)', fontsize=8, x=2, y=1.05)\n",
    "colorbar.ax.tick_params(labelsize=8)\n",
    "\n",
    "plt.show()"
   ]
  },
  {
   "cell_type": "markdown",
   "id": "489d93ef-c25c-439c-a061-a820691b551c",
   "metadata": {
    "jpcodetoc-toc-hr-collapsed": true
   },
   "source": [
    "## Fig.2 mapping"
   ]
  },
  {
   "cell_type": "code",
   "execution_count": null,
   "id": "c2098e6d-7720-4d57-8cc1-ceeefabd4bd9",
   "metadata": {},
   "outputs": [],
   "source": [
    "plt.rcParams.update({'axes.edgecolor': color, 'axes.labelcolor': color, 'xtick.color': color, 'ytick.color': color})\n",
    "\n",
    "poc = poc.sort_values(by='discharge', ascending=False)\n",
    "\n",
    "robinson_proj4 = '+proj=robin +lon_0=0 +x_0=0 +y_0=0 +datum=WGS84 +units=m +no_defs'\n",
    "\n",
    "world = world.to_crs(crs=robinson_proj4)\n",
    "poc = poc.to_crs(crs=robinson_proj4)\n",
    "\n",
    "fig, ax = plt.subplots(1, 1, figsize=(8, 7.5), dpi=300)\n",
    "ax.spines['top'].set_visible(False)\n",
    "ax.spines['right'].set_visible(False)\n",
    "ax.spines['bottom'].set_visible(False)\n",
    "ax.spines['left'].set_visible(False)\n",
    "ax.axis('off')\n",
    "\n",
    "world.plot(ax=ax, color='#EDEDED', edgecolor=None, linewidth=0.5, alpha = 0.6)\n",
    "\n",
    "sizes = [30, 50, 70, 120]\n",
    "boundary = [0, 0.1, 0.5, 1, 15]\n",
    "\n",
    "poc['size'] = [sizes[0] if boundary[0] < x < boundary[1]\n",
    "               else sizes[1] if boundary[1] <= x < boundary[2]\n",
    "               else sizes[2] if boundary[2] <= x < boundary[3]\n",
    "               else sizes[3] for x in poc['poc_flux']]\n",
    "\n",
    "color_list_decrease = ['#023858','#045a8d','#ece7f2','#fff7fb']\n",
    "color_list_increase = ['#7f0000','#b30000','#fee8c8','#fff7ec']\n",
    "\n",
    "bounds = [-1.5, -0.05, -0.02, 0, 0.05, 0.1, 0.3, 0.7]\n",
    "\n",
    "poc['color'] = [\n",
    "                 '#2166ac' if (x*10 < bounds[1]) & (y == 'decreasing')\n",
    "                else '#4393c3' if (bounds[1] <= x*10 < bounds[2]) & (y == 'decreasing')\n",
    "                else '#92c5de' if (bounds[2] <= x*10 < bounds[3]) & (y == 'decreasing')\n",
    "                else '#DEDEDE' if y == 'no trend'\n",
    "                else '#ef6548'  if (bounds[3] < x*10 < bounds[4]) & (y == 'increasing')\n",
    "                else '#d7301f' if (bounds[4] <= x*10 < bounds[5]) & (y == 'increasing')\n",
    "                else '#b30000' if (bounds[5] <= x*10 < bounds[6]) & (y == 'increasing')\n",
    "                else '#7f0000' for x,y in zip(poc['slope'], poc['trend'])]\n",
    "\n",
    "def custom_symbol(trend):\n",
    "    if trend == 'increasing':\n",
    "        return '^'\n",
    "    elif trend == 'decreasing':\n",
    "        return 'v'\n",
    "    else:\n",
    "        return ''\n",
    "\n",
    "poc['symbol'] = poc['trend'].apply(custom_symbol)\n",
    "\n",
    "for x, y, color, symbol, size in zip(poc.geometry.x, poc.geometry.y, poc['color'], poc['symbol'], poc['size']):\n",
    "    ax.scatter(x, y, marker=symbol, s=size, edgecolor='k', c=color, zorder = 100, lw = 0.5, alpha = 0.9)\n",
    "\n",
    "labels = [f\"{boundary[i]} - {boundary[i + 1]}\" for i in range(len(boundary) - 1)] + [\">1\"]\n",
    "legend_elements = [plt.scatter([], [], marker='^',  facecolor='none', edgecolor = 'k',lw = 0.5,\n",
    "                               s=size, label=label) for size, label in zip(sizes, labels)]\n",
    "legend = plt.legend(handles=legend_elements,markerfirst=True, frameon=False, bbox_to_anchor=(0.67, 0.46),fontsize=8,labelspacing = 0.8)  \n",
    "# legend.set_title('Avg. Discharge\\n(100 km³/yr)', prop={'size': 8})\n",
    "legend.set_title('Avg. POC flux\\n(Mt/yr)', prop={'size': 8})\n",
    "legend.get_title().set_ha(\"center\")\n",
    "legend._legend_box.align = \"center\"\n",
    "\n",
    "color_list =  ['#2166ac', '#4393c3', '#92c5de', '#ef6548', '#d7301f', '#b30000', '#7f0000']\n",
    "cmap = mcolors.ListedColormap(color_list)\n",
    "bounds = bounds\n",
    "norm = mcolors.BoundaryNorm(bounds, cmap.N)\n",
    "\n",
    "cax = fig.add_axes([0.21, 0.33, 0.008, 0.12])\n",
    "colorbar = plt.colorbar(plt.cm.ScalarMappable(cmap=cmap, norm=norm), cax=cax)\n",
    "colorbar.ax.set_title('POC flux change\\n rate (Mt/10 yr)', fontsize=8, x=3., y=1.02, linespacing = 1.2)  # x,y 调整title的位置\n",
    "colorbar.ax.tick_params(labelsize=8)\n",
    "colorbar.outline.set_linewidth(.5)\n",
    "colorbar.ax.tick_params(width=.5)\n",
    "\n",
    "plt.show()"
   ]
  }
 ],
 "metadata": {
  "jpcodetoc-showtags": false,
  "kernelspec": {
   "display_name": "Python 3 (ipykernel)",
   "language": "python",
   "name": "python3"
  },
  "language_info": {
   "codemirror_mode": {
    "name": "ipython",
    "version": 3
   },
   "file_extension": ".py",
   "mimetype": "text/x-python",
   "name": "python",
   "nbconvert_exporter": "python",
   "pygments_lexer": "ipython3",
   "version": "3.10.13"
  }
 },
 "nbformat": 4,
 "nbformat_minor": 5
}
